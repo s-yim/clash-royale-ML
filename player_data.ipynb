{
 "cells": [
  {
   "cell_type": "code",
   "execution_count": 6,
   "id": "2d63f882",
   "metadata": {},
   "outputs": [],
   "source": [
    "import os\n",
    "import json\n",
    "import pandas as pd\n",
    "\n",
    "# List of JSON files to combine\n",
    "player_json_files = ['player_tags_0_20240122225832.json','player_tags_1_20240122230532.json','player_tags_2_20240122231219.json',\n",
    "                         'player_tags_3_20240122231923.json','player_tags_4_20240122232614.json','player_tags_5_20240122233636.json',\n",
    "                         'player_tags_6_20240122234333.json','player_tags_7_20240122235019.json','player_tags_8_20240122235710.json',\n",
    "                         'player_tags_9_20240123000445.json','player_tags_0_20240123012026.json','player_tags_1_20240123022952.json', \n",
    "                         'player_tags_2_20240123033903.json','player_tags_3_20240123044754.json','player_tags_4_20240123055752.json', \n",
    "                         'player_tags_0_20240123113446.json']\n",
    "\n",
    "player_json_files_paths = [os.path.join('Resources', file_name) for file_name in player_json_files]\n",
    "\n",
    "# List to store combined data\n",
    "combined_player_tags = []\n",
    "\n",
    "# Loop through each file and add content to a list\n",
    "for json_file in player_json_files_paths:\n",
    "    with open(json_file, 'r') as file:\n",
    "        data = json.load(file)\n",
    "        combined_player_tags.extend(data)\n",
    "\n",
    "# Save as new file        \n",
    "with open('combined_player_tags.json', 'w') as combined_file:\n",
    "    json.dump(combined_player_tags, combined_file, indent=2)    "
   ]
  },
  {
   "cell_type": "code",
   "execution_count": null,
   "id": "85018493",
   "metadata": {},
   "outputs": [],
   "source": []
  }
 ],
 "metadata": {
  "kernelspec": {
   "display_name": "Python 3 (ipykernel)",
   "language": "python",
   "name": "python3"
  },
  "language_info": {
   "codemirror_mode": {
    "name": "ipython",
    "version": 3
   },
   "file_extension": ".py",
   "mimetype": "text/x-python",
   "name": "python",
   "nbconvert_exporter": "python",
   "pygments_lexer": "ipython3",
   "version": "3.11.4"
  }
 },
 "nbformat": 4,
 "nbformat_minor": 5
}
