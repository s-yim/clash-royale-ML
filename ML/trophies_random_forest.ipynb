{
  "nbformat": 4,
  "nbformat_minor": 0,
  "metadata": {
    "colab": {
      "provenance": []
    },
    "kernelspec": {
      "name": "python3",
      "display_name": "Python 3"
    },
    "language_info": {
      "name": "python"
    }
  },
  "cells": [
    {
      "cell_type": "markdown",
      "source": [
        "Predict trophies based on player data such as cards, achievements, badges, total games, total donations, etc."
      ],
      "metadata": {
        "id": "oYvrRMDufgdJ"
      }
    },
    {
      "cell_type": "code",
      "execution_count": 1,
      "metadata": {
        "colab": {
          "base_uri": "https://localhost:8080/",
          "height": 73
        },
        "id": "aig_clckiXF0",
        "outputId": "73b2d181-d843-4365-b623-801829c43953"
      },
      "outputs": [
        {
          "output_type": "display_data",
          "data": {
            "text/plain": [
              "<IPython.core.display.HTML object>"
            ],
            "text/html": [
              "\n",
              "     <input type=\"file\" id=\"files-749bef3c-21a4-43c6-9458-3e215a6a4bb2\" name=\"files[]\" multiple disabled\n",
              "        style=\"border:none\" />\n",
              "     <output id=\"result-749bef3c-21a4-43c6-9458-3e215a6a4bb2\">\n",
              "      Upload widget is only available when the cell has been executed in the\n",
              "      current browser session. Please rerun this cell to enable.\n",
              "      </output>\n",
              "      <script>// Copyright 2017 Google LLC\n",
              "//\n",
              "// Licensed under the Apache License, Version 2.0 (the \"License\");\n",
              "// you may not use this file except in compliance with the License.\n",
              "// You may obtain a copy of the License at\n",
              "//\n",
              "//      http://www.apache.org/licenses/LICENSE-2.0\n",
              "//\n",
              "// Unless required by applicable law or agreed to in writing, software\n",
              "// distributed under the License is distributed on an \"AS IS\" BASIS,\n",
              "// WITHOUT WARRANTIES OR CONDITIONS OF ANY KIND, either express or implied.\n",
              "// See the License for the specific language governing permissions and\n",
              "// limitations under the License.\n",
              "\n",
              "/**\n",
              " * @fileoverview Helpers for google.colab Python module.\n",
              " */\n",
              "(function(scope) {\n",
              "function span(text, styleAttributes = {}) {\n",
              "  const element = document.createElement('span');\n",
              "  element.textContent = text;\n",
              "  for (const key of Object.keys(styleAttributes)) {\n",
              "    element.style[key] = styleAttributes[key];\n",
              "  }\n",
              "  return element;\n",
              "}\n",
              "\n",
              "// Max number of bytes which will be uploaded at a time.\n",
              "const MAX_PAYLOAD_SIZE = 100 * 1024;\n",
              "\n",
              "function _uploadFiles(inputId, outputId) {\n",
              "  const steps = uploadFilesStep(inputId, outputId);\n",
              "  const outputElement = document.getElementById(outputId);\n",
              "  // Cache steps on the outputElement to make it available for the next call\n",
              "  // to uploadFilesContinue from Python.\n",
              "  outputElement.steps = steps;\n",
              "\n",
              "  return _uploadFilesContinue(outputId);\n",
              "}\n",
              "\n",
              "// This is roughly an async generator (not supported in the browser yet),\n",
              "// where there are multiple asynchronous steps and the Python side is going\n",
              "// to poll for completion of each step.\n",
              "// This uses a Promise to block the python side on completion of each step,\n",
              "// then passes the result of the previous step as the input to the next step.\n",
              "function _uploadFilesContinue(outputId) {\n",
              "  const outputElement = document.getElementById(outputId);\n",
              "  const steps = outputElement.steps;\n",
              "\n",
              "  const next = steps.next(outputElement.lastPromiseValue);\n",
              "  return Promise.resolve(next.value.promise).then((value) => {\n",
              "    // Cache the last promise value to make it available to the next\n",
              "    // step of the generator.\n",
              "    outputElement.lastPromiseValue = value;\n",
              "    return next.value.response;\n",
              "  });\n",
              "}\n",
              "\n",
              "/**\n",
              " * Generator function which is called between each async step of the upload\n",
              " * process.\n",
              " * @param {string} inputId Element ID of the input file picker element.\n",
              " * @param {string} outputId Element ID of the output display.\n",
              " * @return {!Iterable<!Object>} Iterable of next steps.\n",
              " */\n",
              "function* uploadFilesStep(inputId, outputId) {\n",
              "  const inputElement = document.getElementById(inputId);\n",
              "  inputElement.disabled = false;\n",
              "\n",
              "  const outputElement = document.getElementById(outputId);\n",
              "  outputElement.innerHTML = '';\n",
              "\n",
              "  const pickedPromise = new Promise((resolve) => {\n",
              "    inputElement.addEventListener('change', (e) => {\n",
              "      resolve(e.target.files);\n",
              "    });\n",
              "  });\n",
              "\n",
              "  const cancel = document.createElement('button');\n",
              "  inputElement.parentElement.appendChild(cancel);\n",
              "  cancel.textContent = 'Cancel upload';\n",
              "  const cancelPromise = new Promise((resolve) => {\n",
              "    cancel.onclick = () => {\n",
              "      resolve(null);\n",
              "    };\n",
              "  });\n",
              "\n",
              "  // Wait for the user to pick the files.\n",
              "  const files = yield {\n",
              "    promise: Promise.race([pickedPromise, cancelPromise]),\n",
              "    response: {\n",
              "      action: 'starting',\n",
              "    }\n",
              "  };\n",
              "\n",
              "  cancel.remove();\n",
              "\n",
              "  // Disable the input element since further picks are not allowed.\n",
              "  inputElement.disabled = true;\n",
              "\n",
              "  if (!files) {\n",
              "    return {\n",
              "      response: {\n",
              "        action: 'complete',\n",
              "      }\n",
              "    };\n",
              "  }\n",
              "\n",
              "  for (const file of files) {\n",
              "    const li = document.createElement('li');\n",
              "    li.append(span(file.name, {fontWeight: 'bold'}));\n",
              "    li.append(span(\n",
              "        `(${file.type || 'n/a'}) - ${file.size} bytes, ` +\n",
              "        `last modified: ${\n",
              "            file.lastModifiedDate ? file.lastModifiedDate.toLocaleDateString() :\n",
              "                                    'n/a'} - `));\n",
              "    const percent = span('0% done');\n",
              "    li.appendChild(percent);\n",
              "\n",
              "    outputElement.appendChild(li);\n",
              "\n",
              "    const fileDataPromise = new Promise((resolve) => {\n",
              "      const reader = new FileReader();\n",
              "      reader.onload = (e) => {\n",
              "        resolve(e.target.result);\n",
              "      };\n",
              "      reader.readAsArrayBuffer(file);\n",
              "    });\n",
              "    // Wait for the data to be ready.\n",
              "    let fileData = yield {\n",
              "      promise: fileDataPromise,\n",
              "      response: {\n",
              "        action: 'continue',\n",
              "      }\n",
              "    };\n",
              "\n",
              "    // Use a chunked sending to avoid message size limits. See b/62115660.\n",
              "    let position = 0;\n",
              "    do {\n",
              "      const length = Math.min(fileData.byteLength - position, MAX_PAYLOAD_SIZE);\n",
              "      const chunk = new Uint8Array(fileData, position, length);\n",
              "      position += length;\n",
              "\n",
              "      const base64 = btoa(String.fromCharCode.apply(null, chunk));\n",
              "      yield {\n",
              "        response: {\n",
              "          action: 'append',\n",
              "          file: file.name,\n",
              "          data: base64,\n",
              "        },\n",
              "      };\n",
              "\n",
              "      let percentDone = fileData.byteLength === 0 ?\n",
              "          100 :\n",
              "          Math.round((position / fileData.byteLength) * 100);\n",
              "      percent.textContent = `${percentDone}% done`;\n",
              "\n",
              "    } while (position < fileData.byteLength);\n",
              "  }\n",
              "\n",
              "  // All done.\n",
              "  yield {\n",
              "    response: {\n",
              "      action: 'complete',\n",
              "    }\n",
              "  };\n",
              "}\n",
              "\n",
              "scope.google = scope.google || {};\n",
              "scope.google.colab = scope.google.colab || {};\n",
              "scope.google.colab._files = {\n",
              "  _uploadFiles,\n",
              "  _uploadFilesContinue,\n",
              "};\n",
              "})(self);\n",
              "</script> "
            ]
          },
          "metadata": {}
        },
        {
          "output_type": "stream",
          "name": "stdout",
          "text": [
            "Saving combined_player_tags_master.csv to combined_player_tags_master.csv\n"
          ]
        }
      ],
      "source": [
        "import pandas as pd\n",
        "from google.colab import files\n",
        "\n",
        "# Upload the CSV file to Colab\n",
        "uploaded = files.upload()\n",
        "\n",
        "# Load the CSV file into a DataFrame\n",
        "player_data_df = pd.read_csv('combined_player_tags_master.csv')"
      ]
    },
    {
      "cell_type": "code",
      "source": [
        "import matplotlib.pyplot as plt\n",
        "import numpy as np\n",
        "from sklearn.model_selection import train_test_split, cross_val_score, RandomizedSearchCV, GridSearchCV\n",
        "from sklearn.preprocessing import StandardScaler, OneHotEncoder\n",
        "from sklearn.ensemble import RandomForestRegressor\n",
        "from sklearn.metrics import mean_squared_error, r2_score"
      ],
      "metadata": {
        "id": "H4S1R2SkiZDK"
      },
      "execution_count": 13,
      "outputs": []
    },
    {
      "cell_type": "code",
      "source": [
        "# X contains features (cards owned, card levels, achievements, badges, total games, total donations, etc)\n",
        "# y contains the target variable (number of trophies)\n",
        "X = player_data_df.copy()\n",
        "X.drop(\"/data/trophies\", axis=1, inplace=True)\n",
        "y = player_data_df[\"/data/trophies\"].values.reshape(-1, 1)\n",
        "y[:100]\n",
        "\n",
        "X_encoded = pd.get_dummies(X)\n",
        "y_ravel = y.ravel()"
      ],
      "metadata": {
        "id": "agFA45XtiZIR"
      },
      "execution_count": 3,
      "outputs": []
    },
    {
      "cell_type": "code",
      "source": [
        "# Split Data\n",
        "X_train, X_test, y_train, y_test = train_test_split(X_encoded, y_ravel, test_size=0.3, random_state=42)\n",
        "\n",
        "# Model Selection\n",
        "model = RandomForestRegressor(random_state=42)\n",
        "\n",
        "# Training\n",
        "model.fit(X_train, y_train)\n",
        "q\n",
        "# Evaluation\n",
        "y_pred = model.predict(X_test)\n",
        "mse = mean_squared_error(y_test, y_pred)\n",
        "print(\"Mean Squared Error:\", mse)"
      ],
      "metadata": {
        "colab": {
          "base_uri": "https://localhost:8080/"
        },
        "id": "nBWD5LLwiZKf",
        "outputId": "d32453d2-5b31-45ac-db1e-d1d41bb7bb05"
      },
      "execution_count": 4,
      "outputs": [
        {
          "output_type": "stream",
          "name": "stdout",
          "text": [
            "Mean Squared Error: 9850.06293191338\n"
          ]
        }
      ]
    },
    {
      "cell_type": "code",
      "source": [
        "# Split Data\n",
        "X_train, X_test, y_train, y_test = train_test_split(X_encoded, y_ravel, test_size=0.3, random_state=42)\n",
        "\n",
        "# Model Selection\n",
        "model_1 = RandomForestRegressor(random_state=42)\n",
        "model_2 = RandomForestRegressor(n_estimators=150, random_state=42)\n",
        "\n",
        "# Training\n",
        "model_1.fit(X_train, y_train)\n",
        "model_2.fit(X_train, y_train)\n",
        "\n",
        "# Evaluation\n",
        "y_pred_1 = model_1.predict(X_test)\n",
        "y_pred_2 = model_2.predict(X_test)\n",
        "mse_1 = mean_squared_error(y_test, y_pred_1)\n",
        "mse_2 = mean_squared_error(y_test, y_pred_2)\n",
        "print(\"Mean Squared Error (Model 1):\", mse_1)\n",
        "print(\"Mean Squared Error (Model 2):\", mse_2)"
      ],
      "metadata": {
        "colab": {
          "base_uri": "https://localhost:8080/"
        },
        "id": "MDuYVfWNGhML",
        "outputId": "3fb6c13e-6756-4db1-f409-b370ab0b1d92"
      },
      "execution_count": 6,
      "outputs": [
        {
          "output_type": "stream",
          "name": "stdout",
          "text": [
            "Mean Squared Error (Model 1): 9850.06293191338\n",
            "Mean Squared Error (Model 2): 9910.422386021377\n"
          ]
        }
      ]
    },
    {
      "cell_type": "code",
      "source": [
        "# Split Data\n",
        "X_train, X_test, y_train, y_test = train_test_split(X_encoded, y_ravel, test_size=0.3, random_state=42)\n",
        "\n",
        "# Model Selection\n",
        "model_3 = RandomForestRegressor(n_estimators=50, random_state=42)\n",
        "\n",
        "# Training\n",
        "model_3.fit(X_train, y_train)\n",
        "\n",
        "# Evaluation\n",
        "y_pred_3 = model_3.predict(X_test)\n",
        "mse_3 = mean_squared_error(y_test, y_pred_3)\n",
        "print(\"Mean Squared Error (Model 3):\", mse_3)"
      ],
      "metadata": {
        "colab": {
          "base_uri": "https://localhost:8080/"
        },
        "id": "FEFI9H9mRwKK",
        "outputId": "2653a3a7-7b0e-40ad-af58-94052e33f995"
      },
      "execution_count": 8,
      "outputs": [
        {
          "output_type": "stream",
          "name": "stdout",
          "text": [
            "Mean Squared Error (Model 3): 10152.493593042243\n"
          ]
        }
      ]
    },
    {
      "cell_type": "code",
      "source": [
        "# R-squared calculation\n",
        "r2_1 = r2_score(y_test, y_pred_1)\n",
        "r2_2 = r2_score(y_test, y_pred_2)\n",
        "r2_3 = r2_score(y_test, y_pred_3)\n",
        "\n",
        "print(\"R-squared (Model 1):\", r2_1)\n",
        "print(\"R-squared (Model 2):\", r2_2)\n",
        "print(\"R-squared (Model 3):\", r2_3)"
      ],
      "metadata": {
        "colab": {
          "base_uri": "https://localhost:8080/"
        },
        "id": "6JkXmfUZiMcf",
        "outputId": "b1b9a6ed-5601-4252-8dd3-cc192ad7b6a8"
      },
      "execution_count": 14,
      "outputs": [
        {
          "output_type": "stream",
          "name": "stdout",
          "text": [
            "R-squared (Model 1): 0.9978581520252665\n",
            "R-squared (Model 2): 0.997845027157392\n",
            "R-squared (Model 3): 0.9977923899582103\n"
          ]
        }
      ]
    },
    {
      "cell_type": "markdown",
      "source": [
        "The following cells took too long to complete. Next steps would be to:\n",
        "* Increase processing power and time.\n",
        "* Perform cross-validation to estimate the models performance and predictive power.\n",
        "* Examine feature importance scores to identify the most influnetial features and underlying relationships in the data.\n",
        "* Run the model using RandomizedSearchCV with parameters.\n",
        "* Run the model using GridSearchCV and even more parameters."
      ],
      "metadata": {
        "id": "8iABiSzVobvl"
      }
    },
    {
      "cell_type": "code",
      "source": [
        "# Perform cross-validation\n",
        "cv_scores_1 = cross_val_score(model_1, X_encoded, y_ravel, cv=5, scoring='r2')\n",
        "cv_scores_2 = cross_val_score(model_2, X_encoded, y_ravel, cv=5, scoring='r2')\n",
        "cv_scores_3 = cross_val_score(model_3, X_encoded, y_ravel, cv=5, scoring='r2')\n",
        "\n",
        "# Print cross-validation scores\n",
        "print(\"Cross-validation R-squared scores (Model 1):\", cv_scores_1)\n",
        "print(\"Mean R-squared (Model 1):\", np.mean(cv_scores_1))\n",
        "print(\"Standard deviation of R-squared (Model 1):\", np.std(cv_scores_1))\n",
        "\n",
        "print(\"Cross-validation R-squared scores (Model 2):\", cv_scores_2)\n",
        "print(\"Mean R-squared (Model 2):\", np.mean(cv_scores_2))\n",
        "print(\"Standard deviation of R-squared (Model 2):\", np.std(cv_scores_2))\n",
        "\n",
        "print(\"Cross-validation R-squared scores (Model 3):\", cv_scores_3)\n",
        "print(\"Mean R-squared (Model 3):\", np.mean(cv_scores_3))\n",
        "print(\"Standard deviation of R-squared (Model 3):\", np.std(cv_scores_3))"
      ],
      "metadata": {
        "id": "3-h5Ofy-inMo"
      },
      "execution_count": null,
      "outputs": []
    },
    {
      "cell_type": "code",
      "source": [
        "# Examine feature importance\n",
        "feature_names = X_encoded.columns\n",
        "std = None\n",
        "\n",
        "importances_1 = model_1.feature_importances_\n",
        "forest_importances_1 = pd.Series(importances_1, index=feature_names)\n",
        "\n",
        "fig, ax = plt.subplots()\n",
        "forest_importances_1.plot.bar(yerr=std, ax=ax)\n",
        "ax.set_title(\"Feature importances using MDI (Model 1)\")\n",
        "ax.set_ylabel(\"Mean decrease in impurity\")\n",
        "fig.tight_layout()"
      ],
      "metadata": {
        "id": "g0fu2M4jeA_c"
      },
      "execution_count": null,
      "outputs": []
    },
    {
      "cell_type": "code",
      "source": [
        "# Use RandomizedSearchCV with parameters\n",
        "# Split Data\n",
        "X_train, X_test, y_train, y_test = train_test_split(X_encoded, y_ravel, test_size=0.3, random_state=42)\n",
        "\n",
        "# Model Selection\n",
        "model = RandomForestRegressor(random_state=42)\n",
        "\n",
        "# Training\n",
        "model.fit(X_train, y_train)\n",
        "\n",
        "# Evaluation\n",
        "y_pred = model.predict(X_test)\n",
        "mse = mean_squared_error(y_test, y_pred)\n",
        "print(\"Mean Squared Error:\", mse)\n",
        "\n",
        "# Define a grid of hyperparameters to search\n",
        "param_distributions = {\n",
        "    'n_estimators': [100, 300],\n",
        "    'max_depth': [None, 20],\n",
        "    'min_samples_split': [2, 10],\n",
        "    'min_samples_leaf': [1, 4]\n",
        "}\n",
        "\n",
        "# Randomized Search\n",
        "n_iter_search = 10  # You can adjust this value\n",
        "random_search = RandomizedSearchCV(estimator=model, param_distributions=param_distributions, n_iter=n_iter_search, cv=5, scoring='neg_mean_squared_error', n_jobs=-1)\n",
        "random_search.fit(X_train, y_train)\n",
        "\n",
        "# Get the best model\n",
        "best_model = random_search.best_estimator_\n",
        "\n",
        "# Evaluate the best model\n",
        "y_pred_best = best_model.predict(X_test)\n",
        "mse_best = mean_squared_error(y_test, y_pred_best)\n",
        "print(\"Best Mean Squared Error:\", mse_best)\n",
        "print(\"Best Parameters:\", random_search.best_params_)\n"
      ],
      "metadata": {
        "id": "oGqLEoOmiZNv"
      },
      "execution_count": null,
      "outputs": []
    },
    {
      "cell_type": "code",
      "source": [
        "# Use GridSearchCV with additional parameters\n",
        "# Split Data\n",
        "X_train, X_test, y_train, y_test = train_test_split(X_encoded, y_ravel, test_size=0.3, random_state=42)\n",
        "\n",
        "# Model Selection\n",
        "model = RandomForestRegressor(random_state=42)\n",
        "\n",
        "# Training\n",
        "model.fit(X_train, y_train)\n",
        "\n",
        "# Evaluation\n",
        "y_pred = model.predict(X_test)\n",
        "mse = mean_squared_error(y_test, y_pred)\n",
        "print(\"Mean Squared Error:\", mse)\n",
        "\n",
        "# Define a grid of hyperparameters to search\n",
        "param_grid = {\n",
        "    'n_estimators': [100, 200, 300],\n",
        "    'max_depth': [None, 10, 20],\n",
        "    'min_samples_split': [2, 5, 10],\n",
        "    'min_samples_leaf': [1, 2, 4]\n",
        "}\n",
        "\n",
        "grid_search = GridSearchCV(estimator=model, param_grid=param_grid, cv=5, scoring='neg_mean_squared_error', n_jobs=-1)\n",
        "grid_search.fit(X_train, y_train)\n",
        "\n",
        "# Get the best model\n",
        "best_model = grid_search.best_estimator_\n",
        "\n",
        "# Evaluate the best model\n",
        "best_model.fit(X_train, y_train)\n",
        "y_pred_best = best_model.predict(X_test)\n",
        "mse_best = mean_squared_error(y_test, y_pred_best)\n",
        "print(\"Best Mean Squared Error:\", mse_best)\n",
        "print(\"Best Parameters:\", grid_search.best_params_)"
      ],
      "metadata": {
        "id": "_gxRFmppoMBM"
      },
      "execution_count": null,
      "outputs": []
    }
  ]
}